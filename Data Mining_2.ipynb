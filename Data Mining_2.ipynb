{
 "cells": [
  {
   "cell_type": "markdown",
   "id": "3a309615-4429-45ab-a702-06bf5d5b6c56",
   "metadata": {},
   "source": [
    "***Project \n",
    "Apply the concepts of data mining studied during our class and implement the following \n",
    "concepts using python libraries***\n"
   ]
  },
  {
   "cell_type": "markdown",
   "id": "4e79c927-d5cf-4302-8b87-f9aca801003e",
   "metadata": {},
   "source": [
    "***1) Select any dataset in CSV format (except iris) and apply concepts of pre-processing on \n",
    "them, which includes:***"
   ]
  },
  {
   "cell_type": "code",
   "execution_count": 6,
   "id": "ec46cceb-092f-424f-8bd9-e7dd127c7aee",
   "metadata": {},
   "outputs": [],
   "source": [
    "import pandas as pd\n",
    "import numpy as np\n",
    "from mlxtend.frequent_patterns import apriori,association_rules\n"
   ]
  },
  {
   "cell_type": "code",
   "execution_count": 13,
   "id": "0a29d33a-ad11-4388-83f5-7e9e78541ce7",
   "metadata": {},
   "outputs": [
    {
     "data": {
      "text/html": [
       "<div>\n",
       "<style scoped>\n",
       "    .dataframe tbody tr th:only-of-type {\n",
       "        vertical-align: middle;\n",
       "    }\n",
       "\n",
       "    .dataframe tbody tr th {\n",
       "        vertical-align: top;\n",
       "    }\n",
       "\n",
       "    .dataframe thead th {\n",
       "        text-align: right;\n",
       "    }\n",
       "</style>\n",
       "<table border=\"1\" class=\"dataframe\">\n",
       "  <thead>\n",
       "    <tr style=\"text-align: right;\">\n",
       "      <th></th>\n",
       "      <th>Transaction_ID</th>\n",
       "      <th>Date</th>\n",
       "      <th>Item_ID</th>\n",
       "      <th>Item_Name</th>\n",
       "      <th>Transaction_Type</th>\n",
       "      <th>Quantity</th>\n",
       "      <th>Initial_Quantity</th>\n",
       "      <th>New_Quantity</th>\n",
       "    </tr>\n",
       "  </thead>\n",
       "  <tbody>\n",
       "    <tr>\n",
       "      <th>0</th>\n",
       "      <td>1</td>\n",
       "      <td>2024-01-09</td>\n",
       "      <td>3</td>\n",
       "      <td>Bread</td>\n",
       "      <td>Purchase</td>\n",
       "      <td>10</td>\n",
       "      <td>75</td>\n",
       "      <td>85</td>\n",
       "    </tr>\n",
       "    <tr>\n",
       "      <th>1</th>\n",
       "      <td>2</td>\n",
       "      <td>2023-12-25</td>\n",
       "      <td>2</td>\n",
       "      <td>Milk</td>\n",
       "      <td>Sale</td>\n",
       "      <td>1</td>\n",
       "      <td>50</td>\n",
       "      <td>49</td>\n",
       "    </tr>\n",
       "    <tr>\n",
       "      <th>2</th>\n",
       "      <td>3</td>\n",
       "      <td>2024-01-11</td>\n",
       "      <td>6</td>\n",
       "      <td>Potatos</td>\n",
       "      <td>Purchase</td>\n",
       "      <td>9</td>\n",
       "      <td>80</td>\n",
       "      <td>89</td>\n",
       "    </tr>\n",
       "    <tr>\n",
       "      <th>3</th>\n",
       "      <td>4</td>\n",
       "      <td>2024-01-02</td>\n",
       "      <td>8</td>\n",
       "      <td>Cadbury</td>\n",
       "      <td>Purchase</td>\n",
       "      <td>20</td>\n",
       "      <td>120</td>\n",
       "      <td>140</td>\n",
       "    </tr>\n",
       "    <tr>\n",
       "      <th>4</th>\n",
       "      <td>5</td>\n",
       "      <td>2023-12-26</td>\n",
       "      <td>8</td>\n",
       "      <td>Cadbury</td>\n",
       "      <td>Sale</td>\n",
       "      <td>20</td>\n",
       "      <td>120</td>\n",
       "      <td>100</td>\n",
       "    </tr>\n",
       "    <tr>\n",
       "      <th>...</th>\n",
       "      <td>...</td>\n",
       "      <td>...</td>\n",
       "      <td>...</td>\n",
       "      <td>...</td>\n",
       "      <td>...</td>\n",
       "      <td>...</td>\n",
       "      <td>...</td>\n",
       "      <td>...</td>\n",
       "    </tr>\n",
       "    <tr>\n",
       "      <th>795</th>\n",
       "      <td>796</td>\n",
       "      <td>2023-12-22</td>\n",
       "      <td>1</td>\n",
       "      <td>Rice</td>\n",
       "      <td>Sale</td>\n",
       "      <td>14</td>\n",
       "      <td>100</td>\n",
       "      <td>86</td>\n",
       "    </tr>\n",
       "    <tr>\n",
       "      <th>796</th>\n",
       "      <td>797</td>\n",
       "      <td>2023-12-27</td>\n",
       "      <td>1</td>\n",
       "      <td>Rice</td>\n",
       "      <td>Sale</td>\n",
       "      <td>2</td>\n",
       "      <td>100</td>\n",
       "      <td>98</td>\n",
       "    </tr>\n",
       "    <tr>\n",
       "      <th>797</th>\n",
       "      <td>798</td>\n",
       "      <td>2023-12-30</td>\n",
       "      <td>8</td>\n",
       "      <td>Cadbury</td>\n",
       "      <td>Purchase</td>\n",
       "      <td>12</td>\n",
       "      <td>120</td>\n",
       "      <td>132</td>\n",
       "    </tr>\n",
       "    <tr>\n",
       "      <th>798</th>\n",
       "      <td>799</td>\n",
       "      <td>2023-12-27</td>\n",
       "      <td>8</td>\n",
       "      <td>Cadbury</td>\n",
       "      <td>Purchase</td>\n",
       "      <td>12</td>\n",
       "      <td>120</td>\n",
       "      <td>132</td>\n",
       "    </tr>\n",
       "    <tr>\n",
       "      <th>799</th>\n",
       "      <td>800</td>\n",
       "      <td>2023-12-18</td>\n",
       "      <td>5</td>\n",
       "      <td>Bananas</td>\n",
       "      <td>Sale</td>\n",
       "      <td>15</td>\n",
       "      <td>40</td>\n",
       "      <td>25</td>\n",
       "    </tr>\n",
       "  </tbody>\n",
       "</table>\n",
       "<p>800 rows × 8 columns</p>\n",
       "</div>"
      ],
      "text/plain": [
       "     Transaction_ID        Date  Item_ID Item_Name Transaction_Type  Quantity  \\\n",
       "0                 1  2024-01-09        3     Bread         Purchase        10   \n",
       "1                 2  2023-12-25        2      Milk             Sale         1   \n",
       "2                 3  2024-01-11        6   Potatos         Purchase         9   \n",
       "3                 4  2024-01-02        8   Cadbury         Purchase        20   \n",
       "4                 5  2023-12-26        8   Cadbury             Sale        20   \n",
       "..              ...         ...      ...       ...              ...       ...   \n",
       "795             796  2023-12-22        1      Rice             Sale        14   \n",
       "796             797  2023-12-27        1      Rice             Sale         2   \n",
       "797             798  2023-12-30        8   Cadbury         Purchase        12   \n",
       "798             799  2023-12-27        8   Cadbury         Purchase        12   \n",
       "799             800  2023-12-18        5   Bananas             Sale        15   \n",
       "\n",
       "     Initial_Quantity  New_Quantity  \n",
       "0                  75            85  \n",
       "1                  50            49  \n",
       "2                  80            89  \n",
       "3                 120           140  \n",
       "4                 120           100  \n",
       "..                ...           ...  \n",
       "795               100            86  \n",
       "796               100            98  \n",
       "797               120           132  \n",
       "798               120           132  \n",
       "799                40            25  \n",
       "\n",
       "[800 rows x 8 columns]"
      ]
     },
     "execution_count": 13,
     "metadata": {},
     "output_type": "execute_result"
    }
   ],
   "source": [
    "#Inventory_transcations dataset\n",
    "data = pd.read_csv('inventory_transactions.csv')\n",
    "data"
   ]
  },
  {
   "cell_type": "markdown",
   "id": "ea7f2dbd-6dce-45ff-b2c4-7a49acbe92a7",
   "metadata": {},
   "source": [
    "***a) Identify the type of attribute in the chosen data set***"
   ]
  },
  {
   "cell_type": "code",
   "execution_count": 14,
   "id": "05ff8a44-e9b6-4e98-91f9-9d4e0f2d814d",
   "metadata": {},
   "outputs": [
    {
     "name": "stdout",
     "output_type": "stream",
     "text": [
      "Transaction_ID       int64\n",
      "Date                object\n",
      "Item_ID              int64\n",
      "Item_Name           object\n",
      "Transaction_Type    object\n",
      "Quantity             int64\n",
      "Initial_Quantity     int64\n",
      "New_Quantity         int64\n",
      "dtype: object\n"
     ]
    }
   ],
   "source": [
    "print(data.dtypes)"
   ]
  },
  {
   "cell_type": "code",
   "execution_count": 16,
   "id": "a8c77a1e-9808-4ca7-9c3a-a9cca4e52bd2",
   "metadata": {},
   "outputs": [
    {
     "name": "stdout",
     "output_type": "stream",
     "text": [
      "int64\n"
     ]
    }
   ],
   "source": [
    "print(data['Quantity'].dtype)"
   ]
  },
  {
   "cell_type": "markdown",
   "id": "1ea1e2c4-e130-4958-8ebf-1c5e312703cc",
   "metadata": {},
   "source": [
    " ***b) identify the missing values***"
   ]
  },
  {
   "cell_type": "code",
   "execution_count": 17,
   "id": "2b9bb910-27d7-4daf-87d3-b053f52e0ce4",
   "metadata": {},
   "outputs": [
    {
     "name": "stdout",
     "output_type": "stream",
     "text": [
      "0\n"
     ]
    }
   ],
   "source": [
    "missing_values = data['Quantity'].isnull().sum()\n",
    "print(missing_values)"
   ]
  },
  {
   "cell_type": "markdown",
   "id": "23517a4c-40e4-44d8-9a73-cc23ec867f8d",
   "metadata": {},
   "source": [
    "as there is no missing values so no need to fill missing values through part(c),(d)"
   ]
  },
  {
   "cell_type": "markdown",
   "id": "d0efa05d-f528-471e-81e9-2ed0384e7de2",
   "metadata": {},
   "source": [
    " ***c) fill missing values using mean, medium and mode***"
   ]
  },
  {
   "cell_type": "code",
   "execution_count": 21,
   "id": "5d0ce247-bd94-4a0f-901c-63db62b60517",
   "metadata": {},
   "outputs": [
    {
     "data": {
      "text/plain": [
       "0      10\n",
       "1       1\n",
       "2       9\n",
       "3      20\n",
       "4      20\n",
       "       ..\n",
       "795    14\n",
       "796     2\n",
       "797    12\n",
       "798    12\n",
       "799    15\n",
       "Name: Quantity, Length: 800, dtype: int64"
      ]
     },
     "execution_count": 21,
     "metadata": {},
     "output_type": "execute_result"
    }
   ],
   "source": [
    "data = data.copy() \n",
    "data['Quantity'] = data['Quantity'].fillna(data['Quantity'].mean())\n",
    "data['Quantity']"
   ]
  },
  {
   "cell_type": "code",
   "execution_count": 23,
   "id": "e8abe451-1d2b-4318-8380-506de23d45cd",
   "metadata": {},
   "outputs": [
    {
     "data": {
      "text/plain": [
       "0      10\n",
       "1       1\n",
       "2       9\n",
       "3      20\n",
       "4      20\n",
       "       ..\n",
       "795    14\n",
       "796     2\n",
       "797    12\n",
       "798    12\n",
       "799    15\n",
       "Name: Quantity, Length: 800, dtype: int64"
      ]
     },
     "execution_count": 23,
     "metadata": {},
     "output_type": "execute_result"
    }
   ],
   "source": [
    "data = data.copy() \n",
    "data['Quantity'] = data['Quantity'].fillna(data['Quantity'].median())\n",
    "data['Quantity'] "
   ]
  },
  {
   "cell_type": "markdown",
   "id": "1c1f1a28-50b5-40d3-8951-8e45b9c451b8",
   "metadata": {},
   "source": [
    "***d) fill missing values in categorical variables using fill next and previous function***"
   ]
  },
  {
   "cell_type": "code",
   "execution_count": 31,
   "id": "02649f35-324e-420b-9e0b-bfee6b276916",
   "metadata": {},
   "outputs": [
    {
     "data": {
      "text/plain": [
       "0        Bread\n",
       "1         Milk\n",
       "2      Potatos\n",
       "3      Cadbury\n",
       "4      Cadbury\n",
       "        ...   \n",
       "795       Rice\n",
       "796       Rice\n",
       "797    Cadbury\n",
       "798    Cadbury\n",
       "799    Bananas\n",
       "Name: Item_Name, Length: 800, dtype: object"
      ]
     },
     "execution_count": 31,
     "metadata": {},
     "output_type": "execute_result"
    }
   ],
   "source": [
    "#Forward fill\n",
    "data['Item_Name'] = data['Item_Name'].ffill()\n",
    "data['Item_Name']"
   ]
  },
  {
   "cell_type": "code",
   "execution_count": 32,
   "id": "8de2a856-36d7-481a-a3ad-d35e18b218a2",
   "metadata": {},
   "outputs": [
    {
     "data": {
      "text/plain": [
       "0        Bread\n",
       "1         Milk\n",
       "2      Potatos\n",
       "3      Cadbury\n",
       "4      Cadbury\n",
       "        ...   \n",
       "795       Rice\n",
       "796       Rice\n",
       "797    Cadbury\n",
       "798    Cadbury\n",
       "799    Bananas\n",
       "Name: Item_Name, Length: 800, dtype: object"
      ]
     },
     "execution_count": 32,
     "metadata": {},
     "output_type": "execute_result"
    }
   ],
   "source": [
    "#backward fill\n",
    "data['Item_Name'] = data['Item_Name'].bfill()\n",
    "data['Item_Name']"
   ]
  },
  {
   "cell_type": "markdown",
   "id": "a225d96b-6227-433b-b2fa-e29716368613",
   "metadata": {},
   "source": [
    " ***e) apply the process of binning where required***"
   ]
  },
  {
   "cell_type": "code",
   "execution_count": 36,
   "id": "7dcac401-d076-4e3d-a292-041244faa826",
   "metadata": {},
   "outputs": [
    {
     "data": {
      "text/plain": [
       "0         Low\n",
       "1         Low\n",
       "2         Low\n",
       "3      Medium\n",
       "4      Medium\n",
       "        ...  \n",
       "795    Medium\n",
       "796       Low\n",
       "797    Medium\n",
       "798    Medium\n",
       "799    Medium\n",
       "Name: Quantity_Binned, Length: 800, dtype: category\n",
       "Categories (3, object): ['Low' < 'Medium' < 'High']"
      ]
     },
     "execution_count": 36,
     "metadata": {},
     "output_type": "execute_result"
    }
   ],
   "source": [
    "data['Quantity_Binned'] = pd.cut(data['Quantity'], bins=[0, 10, 20, 30], labels=['Low', 'Medium', 'High'])\n",
    "data['Quantity_Binned']"
   ]
  },
  {
   "cell_type": "code",
   "execution_count": 38,
   "id": "79477e52-d7c7-4264-9a78-360406f24cbf",
   "metadata": {},
   "outputs": [
    {
     "data": {
      "text/plain": [
       "0      10\n",
       "1       1\n",
       "2       9\n",
       "3      20\n",
       "4      20\n",
       "       ..\n",
       "795    14\n",
       "796     2\n",
       "797    12\n",
       "798    12\n",
       "799    15\n",
       "Name: Quantity, Length: 800, dtype: int64"
      ]
     },
     "execution_count": 38,
     "metadata": {},
     "output_type": "execute_result"
    }
   ],
   "source": [
    "col2 =df.iloc[:,5]\n",
    "col2"
   ]
  },
  {
   "cell_type": "code",
   "execution_count": 40,
   "id": "c2ec96b3-6a11-45b7-bd0f-690f9a494ddd",
   "metadata": {
    "scrolled": true
   },
   "outputs": [
    {
     "data": {
      "text/plain": [
       "array([ 1,  1,  1,  1,  1,  1,  1,  1,  1,  1,  1,  1,  1,  1,  1,  1,  1,\n",
       "        1,  1,  1,  1,  1,  1,  1,  1,  1,  1,  1,  1,  1,  1,  1,  1,  1,\n",
       "        1,  1,  1,  1,  1,  1,  2,  2,  2,  2,  2,  2,  2,  2,  2,  2,  2,\n",
       "        2,  2,  2,  2,  2,  2,  2,  2,  2,  2,  2,  2,  2,  2,  2,  2,  2,\n",
       "        2,  2,  2,  2,  2,  2,  2,  2,  2,  2,  2,  2,  2,  3,  3,  3,  3,\n",
       "        3,  3,  3,  3,  3,  3,  3,  3,  3,  3,  3,  3,  3,  3,  3,  3,  3,\n",
       "        3,  3,  3,  3,  3,  3,  3,  3,  3,  3,  3,  3,  3,  3,  3,  3,  3,\n",
       "        3,  3,  3,  3,  3,  3,  3,  3,  3,  3,  3,  3,  3,  3,  3,  3,  3,\n",
       "        4,  4,  4,  4,  4,  4,  4,  4,  4,  4,  4,  4,  4,  4,  4,  4,  4,\n",
       "        4,  4,  4,  4,  4,  4,  4,  4,  4,  4,  4,  4,  4,  4,  4,  4,  4,\n",
       "        4,  4,  4,  4,  4,  4,  4,  4,  4,  4,  4,  4,  4,  4,  4,  5,  5,\n",
       "        5,  5,  5,  5,  5,  5,  5,  5,  5,  5,  5,  5,  5,  5,  5,  5,  5,\n",
       "        5,  5,  5,  5,  5,  5,  5,  5,  6,  6,  6,  6,  6,  6,  6,  6,  6,\n",
       "        6,  6,  6,  6,  6,  6,  6,  6,  6,  6,  6,  6,  6,  6,  6,  6,  6,\n",
       "        6,  6,  6,  6,  6,  6,  6,  6,  6,  6,  6,  7,  7,  7,  7,  7,  7,\n",
       "        7,  7,  7,  7,  7,  7,  7,  7,  7,  7,  7,  7,  7,  7,  7,  7,  7,\n",
       "        7,  7,  7,  7,  7,  7,  7,  7,  7,  7,  7,  7,  7,  7,  8,  8,  8,\n",
       "        8,  8,  8,  8,  8,  8,  8,  8,  8,  8,  8,  8,  8,  8,  8,  8,  8,\n",
       "        8,  8,  8,  8,  8,  8,  8,  8,  8,  9,  9,  9,  9,  9,  9,  9,  9,\n",
       "        9,  9,  9,  9,  9,  9,  9,  9,  9,  9,  9,  9,  9,  9,  9,  9,  9,\n",
       "        9,  9,  9,  9,  9,  9,  9,  9,  9,  9,  9,  9,  9,  9, 10, 10, 10,\n",
       "       10, 10, 10, 10, 10, 10, 10, 10, 10, 10, 10, 10, 10, 10, 10, 10, 10,\n",
       "       10, 10, 10, 10, 10, 10, 10, 10, 10, 10, 10, 10, 10, 10, 10, 10, 10,\n",
       "       10, 10, 10, 10, 10, 10, 10, 10, 11, 11, 11, 11, 11, 11, 11, 11, 11,\n",
       "       11, 11, 11, 11, 11, 11, 11, 11, 11, 11, 11, 11, 11, 11, 11, 11, 11,\n",
       "       11, 11, 11, 11, 11, 11, 11, 11, 11, 11, 11, 11, 11, 11, 11, 11, 11,\n",
       "       11, 11, 11, 11, 11, 11, 12, 12, 12, 12, 12, 12, 12, 12, 12, 12, 12,\n",
       "       12, 12, 12, 12, 12, 12, 12, 12, 12, 12, 12, 12, 12, 12, 12, 12, 12,\n",
       "       12, 12, 12, 12, 12, 12, 12, 12, 12, 12, 12, 12, 12, 12, 13, 13, 13,\n",
       "       13, 13, 13, 13, 13, 13, 13, 13, 13, 13, 13, 13, 13, 13, 13, 13, 13,\n",
       "       13, 13, 13, 13, 13, 13, 13, 13, 13, 13, 13, 13, 13, 13, 13, 13, 13,\n",
       "       13, 13, 13, 13, 13, 13, 13, 13, 14, 14, 14, 14, 14, 14, 14, 14, 14,\n",
       "       14, 14, 14, 14, 14, 14, 14, 14, 14, 14, 14, 14, 14, 14, 14, 14, 14,\n",
       "       14, 14, 14, 14, 14, 14, 14, 14, 14, 14, 14, 14, 14, 14, 14, 14, 14,\n",
       "       14, 14, 14, 14, 14, 15, 15, 15, 15, 15, 15, 15, 15, 15, 15, 15, 15,\n",
       "       15, 15, 15, 15, 15, 15, 15, 15, 15, 15, 15, 15, 15, 15, 15, 15, 15,\n",
       "       15, 15, 16, 16, 16, 16, 16, 16, 16, 16, 16, 16, 16, 16, 16, 16, 16,\n",
       "       16, 16, 16, 16, 16, 16, 16, 16, 16, 16, 16, 16, 16, 16, 16, 16, 16,\n",
       "       16, 16, 16, 16, 17, 17, 17, 17, 17, 17, 17, 17, 17, 17, 17, 17, 17,\n",
       "       17, 17, 17, 17, 17, 17, 17, 17, 17, 17, 17, 17, 17, 17, 17, 17, 17,\n",
       "       17, 17, 17, 17, 17, 17, 17, 17, 17, 17, 17, 17, 17, 17, 17, 18, 18,\n",
       "       18, 18, 18, 18, 18, 18, 18, 18, 18, 18, 18, 18, 18, 18, 18, 18, 18,\n",
       "       18, 18, 18, 18, 18, 18, 18, 18, 18, 18, 18, 18, 19, 19, 19, 19, 19,\n",
       "       19, 19, 19, 19, 19, 19, 19, 19, 19, 19, 19, 19, 19, 19, 19, 19, 19,\n",
       "       19, 19, 19, 19, 19, 19, 19, 19, 19, 19, 19, 19, 19, 19, 19, 19, 19,\n",
       "       19, 20, 20, 20, 20, 20, 20, 20, 20, 20, 20, 20, 20, 20, 20, 20, 20,\n",
       "       20, 20, 20, 20, 20, 20, 20, 20, 20, 20, 20, 20, 20, 20, 20, 20, 20,\n",
       "       20])"
      ]
     },
     "execution_count": 40,
     "metadata": {},
     "output_type": "execute_result"
    }
   ],
   "source": [
    "#sorting the quantity column\n",
    "sort_col2= np.sort(col2)\n",
    "sort_col2"
   ]
  },
  {
   "cell_type": "code",
   "execution_count": 41,
   "id": "bc5fb935-61ae-41da-b341-89f8f0aad2fb",
   "metadata": {},
   "outputs": [
    {
     "data": {
      "text/html": [
       "<div>\n",
       "<style scoped>\n",
       "    .dataframe tbody tr th:only-of-type {\n",
       "        vertical-align: middle;\n",
       "    }\n",
       "\n",
       "    .dataframe tbody tr th {\n",
       "        vertical-align: top;\n",
       "    }\n",
       "\n",
       "    .dataframe thead th {\n",
       "        text-align: right;\n",
       "    }\n",
       "</style>\n",
       "<table border=\"1\" class=\"dataframe\">\n",
       "  <thead>\n",
       "    <tr style=\"text-align: right;\">\n",
       "      <th></th>\n",
       "      <th>Quantity</th>\n",
       "    </tr>\n",
       "  </thead>\n",
       "  <tbody>\n",
       "    <tr>\n",
       "      <th>0</th>\n",
       "      <td>1</td>\n",
       "    </tr>\n",
       "    <tr>\n",
       "      <th>1</th>\n",
       "      <td>1</td>\n",
       "    </tr>\n",
       "    <tr>\n",
       "      <th>2</th>\n",
       "      <td>1</td>\n",
       "    </tr>\n",
       "    <tr>\n",
       "      <th>3</th>\n",
       "      <td>1</td>\n",
       "    </tr>\n",
       "    <tr>\n",
       "      <th>4</th>\n",
       "      <td>1</td>\n",
       "    </tr>\n",
       "    <tr>\n",
       "      <th>...</th>\n",
       "      <td>...</td>\n",
       "    </tr>\n",
       "    <tr>\n",
       "      <th>795</th>\n",
       "      <td>20</td>\n",
       "    </tr>\n",
       "    <tr>\n",
       "      <th>796</th>\n",
       "      <td>20</td>\n",
       "    </tr>\n",
       "    <tr>\n",
       "      <th>797</th>\n",
       "      <td>20</td>\n",
       "    </tr>\n",
       "    <tr>\n",
       "      <th>798</th>\n",
       "      <td>20</td>\n",
       "    </tr>\n",
       "    <tr>\n",
       "      <th>799</th>\n",
       "      <td>20</td>\n",
       "    </tr>\n",
       "  </tbody>\n",
       "</table>\n",
       "<p>800 rows × 1 columns</p>\n",
       "</div>"
      ],
      "text/plain": [
       "     Quantity\n",
       "0           1\n",
       "1           1\n",
       "2           1\n",
       "3           1\n",
       "4           1\n",
       "..        ...\n",
       "795        20\n",
       "796        20\n",
       "797        20\n",
       "798        20\n",
       "799        20\n",
       "\n",
       "[800 rows x 1 columns]"
      ]
     },
     "execution_count": 41,
     "metadata": {},
     "output_type": "execute_result"
    }
   ],
   "source": [
    "data = {'Quantity': sort_col2}\n",
    "df1 = pd.DataFrame(data)\n",
    "df1"
   ]
  },
  {
   "cell_type": "code",
   "execution_count": 49,
   "id": "0c59a9b7-56ad-40fb-bf66-00c5c961609e",
   "metadata": {},
   "outputs": [
    {
     "data": {
      "text/html": [
       "<div>\n",
       "<style scoped>\n",
       "    .dataframe tbody tr th:only-of-type {\n",
       "        vertical-align: middle;\n",
       "    }\n",
       "\n",
       "    .dataframe tbody tr th {\n",
       "        vertical-align: top;\n",
       "    }\n",
       "\n",
       "    .dataframe thead th {\n",
       "        text-align: right;\n",
       "    }\n",
       "</style>\n",
       "<table border=\"1\" class=\"dataframe\">\n",
       "  <thead>\n",
       "    <tr style=\"text-align: right;\">\n",
       "      <th></th>\n",
       "      <th>Quantity</th>\n",
       "      <th>Quantity_Binned</th>\n",
       "    </tr>\n",
       "  </thead>\n",
       "  <tbody>\n",
       "    <tr>\n",
       "      <th>0</th>\n",
       "      <td>1</td>\n",
       "      <td>Low</td>\n",
       "    </tr>\n",
       "    <tr>\n",
       "      <th>1</th>\n",
       "      <td>1</td>\n",
       "      <td>Low</td>\n",
       "    </tr>\n",
       "    <tr>\n",
       "      <th>2</th>\n",
       "      <td>1</td>\n",
       "      <td>Low</td>\n",
       "    </tr>\n",
       "    <tr>\n",
       "      <th>3</th>\n",
       "      <td>1</td>\n",
       "      <td>Low</td>\n",
       "    </tr>\n",
       "    <tr>\n",
       "      <th>4</th>\n",
       "      <td>1</td>\n",
       "      <td>Low</td>\n",
       "    </tr>\n",
       "    <tr>\n",
       "      <th>...</th>\n",
       "      <td>...</td>\n",
       "      <td>...</td>\n",
       "    </tr>\n",
       "    <tr>\n",
       "      <th>795</th>\n",
       "      <td>20</td>\n",
       "      <td>Medium</td>\n",
       "    </tr>\n",
       "    <tr>\n",
       "      <th>796</th>\n",
       "      <td>20</td>\n",
       "      <td>Medium</td>\n",
       "    </tr>\n",
       "    <tr>\n",
       "      <th>797</th>\n",
       "      <td>20</td>\n",
       "      <td>Medium</td>\n",
       "    </tr>\n",
       "    <tr>\n",
       "      <th>798</th>\n",
       "      <td>20</td>\n",
       "      <td>Medium</td>\n",
       "    </tr>\n",
       "    <tr>\n",
       "      <th>799</th>\n",
       "      <td>20</td>\n",
       "      <td>Medium</td>\n",
       "    </tr>\n",
       "  </tbody>\n",
       "</table>\n",
       "<p>800 rows × 2 columns</p>\n",
       "</div>"
      ],
      "text/plain": [
       "     Quantity Quantity_Binned\n",
       "0           1             Low\n",
       "1           1             Low\n",
       "2           1             Low\n",
       "3           1             Low\n",
       "4           1             Low\n",
       "..        ...             ...\n",
       "795        20          Medium\n",
       "796        20          Medium\n",
       "797        20          Medium\n",
       "798        20          Medium\n",
       "799        20          Medium\n",
       "\n",
       "[800 rows x 2 columns]"
      ]
     },
     "execution_count": 49,
     "metadata": {},
     "output_type": "execute_result"
    }
   ],
   "source": [
    "df1['Quantity_Binned'] = pd.cut(df1['Quantity'], bins=[0, 10, 20, 30], labels=['Low', 'Medium', 'High'])\n",
    "df1['Quantity_Binned']\n",
    "dataframe=pd.DataFrame(df1)\n",
    "dataframe"
   ]
  },
  {
   "cell_type": "markdown",
   "id": "f2012bd6-f650-47c9-bf78-1b517257b22a",
   "metadata": {},
   "source": [
    "***2) Apply the association rule mining algorithm on the chosen data set to generate frequent \n",
    "item sets and association rules. (select a sample of the data set to do this task).*** "
   ]
  },
  {
   "cell_type": "code",
   "execution_count": 57,
   "id": "36e36fc9-d9cf-4bd5-885a-af549612e62e",
   "metadata": {},
   "outputs": [
    {
     "data": {
      "text/html": [
       "<div>\n",
       "<style scoped>\n",
       "    .dataframe tbody tr th:only-of-type {\n",
       "        vertical-align: middle;\n",
       "    }\n",
       "\n",
       "    .dataframe tbody tr th {\n",
       "        vertical-align: top;\n",
       "    }\n",
       "\n",
       "    .dataframe thead th {\n",
       "        text-align: right;\n",
       "    }\n",
       "</style>\n",
       "<table border=\"1\" class=\"dataframe\">\n",
       "  <thead>\n",
       "    <tr style=\"text-align: right;\">\n",
       "      <th></th>\n",
       "      <th>Quantity</th>\n",
       "      <th>Quantity_Binned</th>\n",
       "    </tr>\n",
       "  </thead>\n",
       "  <tbody>\n",
       "    <tr>\n",
       "      <th>0</th>\n",
       "      <td>1</td>\n",
       "      <td>Low</td>\n",
       "    </tr>\n",
       "    <tr>\n",
       "      <th>1</th>\n",
       "      <td>1</td>\n",
       "      <td>Low</td>\n",
       "    </tr>\n",
       "    <tr>\n",
       "      <th>2</th>\n",
       "      <td>1</td>\n",
       "      <td>Low</td>\n",
       "    </tr>\n",
       "    <tr>\n",
       "      <th>3</th>\n",
       "      <td>1</td>\n",
       "      <td>Low</td>\n",
       "    </tr>\n",
       "    <tr>\n",
       "      <th>4</th>\n",
       "      <td>1</td>\n",
       "      <td>Low</td>\n",
       "    </tr>\n",
       "    <tr>\n",
       "      <th>...</th>\n",
       "      <td>...</td>\n",
       "      <td>...</td>\n",
       "    </tr>\n",
       "    <tr>\n",
       "      <th>795</th>\n",
       "      <td>20</td>\n",
       "      <td>Medium</td>\n",
       "    </tr>\n",
       "    <tr>\n",
       "      <th>796</th>\n",
       "      <td>20</td>\n",
       "      <td>Medium</td>\n",
       "    </tr>\n",
       "    <tr>\n",
       "      <th>797</th>\n",
       "      <td>20</td>\n",
       "      <td>Medium</td>\n",
       "    </tr>\n",
       "    <tr>\n",
       "      <th>798</th>\n",
       "      <td>20</td>\n",
       "      <td>Medium</td>\n",
       "    </tr>\n",
       "    <tr>\n",
       "      <th>799</th>\n",
       "      <td>20</td>\n",
       "      <td>Medium</td>\n",
       "    </tr>\n",
       "  </tbody>\n",
       "</table>\n",
       "<p>800 rows × 2 columns</p>\n",
       "</div>"
      ],
      "text/plain": [
       "     Quantity Quantity_Binned\n",
       "0           1             Low\n",
       "1           1             Low\n",
       "2           1             Low\n",
       "3           1             Low\n",
       "4           1             Low\n",
       "..        ...             ...\n",
       "795        20          Medium\n",
       "796        20          Medium\n",
       "797        20          Medium\n",
       "798        20          Medium\n",
       "799        20          Medium\n",
       "\n",
       "[800 rows x 2 columns]"
      ]
     },
     "execution_count": 57,
     "metadata": {},
     "output_type": "execute_result"
    }
   ],
   "source": [
    "# Convert binned data to one-hot encoded format\n",
    "df1_onehot = pd.get_dummies(dataframe['Quantity_Binned'], prefix='Quantity_Binned')\n",
    "df1"
   ]
  },
  {
   "cell_type": "code",
   "execution_count": 65,
   "id": "fdc4b26b-f1f4-4cb0-a796-1f79eeb77b84",
   "metadata": {},
   "outputs": [],
   "source": [
    "# Apply Apriori algorithm\n",
    "frequent_itemsets = apriori(df1_onehot, min_support=0.1, use_colnames=True)\n"
   ]
  },
  {
   "cell_type": "code",
   "execution_count": 66,
   "id": "6398f7ee-53ef-41ce-be5c-7569e98b3b3a",
   "metadata": {},
   "outputs": [],
   "source": [
    "# Generate association rules\n",
    "rules = association_rules(frequent_itemsets, metric=\"confidence\", min_threshold=0.1)"
   ]
  },
  {
   "cell_type": "code",
   "execution_count": 67,
   "id": "5c16af3e-fd77-4ad7-a061-dc04ec069900",
   "metadata": {},
   "outputs": [
    {
     "name": "stdout",
     "output_type": "stream",
     "text": [
      "   support                  itemsets\n",
      "0  0.49875     (Quantity_Binned_Low)\n",
      "1  0.50125  (Quantity_Binned_Medium)\n",
      "Empty DataFrame\n",
      "Columns: [antecedents, consequents, antecedent support, consequent support, support, confidence, lift, leverage, conviction, zhangs_metric]\n",
      "Index: []\n"
     ]
    }
   ],
   "source": [
    "print(frequent_itemsets)\n",
    "print(rules)"
   ]
  },
  {
   "cell_type": "markdown",
   "id": "d7ddd65f-884b-47c5-a8b3-b06d4a2dc3ba",
   "metadata": {},
   "source": [
    "The output seeing indicates that the Apriori algorithm found frequent itemsets, but no association rules were generated"
   ]
  }
 ],
 "metadata": {
  "kernelspec": {
   "display_name": "Python 3 (ipykernel)",
   "language": "python",
   "name": "python3"
  },
  "language_info": {
   "codemirror_mode": {
    "name": "ipython",
    "version": 3
   },
   "file_extension": ".py",
   "mimetype": "text/x-python",
   "name": "python",
   "nbconvert_exporter": "python",
   "pygments_lexer": "ipython3",
   "version": "3.12.3"
  }
 },
 "nbformat": 4,
 "nbformat_minor": 5
}
